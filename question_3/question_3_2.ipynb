{
 "cells": [
  {
   "cell_type": "markdown",
   "metadata": {},
   "source": [
    "### Question – 3 (Using Python)\n",
    "\n",
    "**2. By looking at the histograms generated in (1), what comments can you make about the skewness of distribution?**\n",
    "\n",
    "***Answer***\n",
    "\n"
   ]
  },
  {
   "cell_type": "markdown",
   "metadata": {},
   "source": [
    "I would like to make the following two observations\n",
    "- The histograms for all measurements, except for pH and density, exhibit a right-skewed distribution. This means that the majority of data points are skewed towards lower values, with a long tail on the higher value side, indicating a positive skew.\n",
    "- In contrast, the histograms for pH and density display a bell-shaped or approximately symmetric distribution. This suggests that data values are evenly spread around the central tendency, with no strong skew in either direction."
   ]
  }
 ],
 "metadata": {
  "language_info": {
   "name": "python"
  }
 },
 "nbformat": 4,
 "nbformat_minor": 2
}
