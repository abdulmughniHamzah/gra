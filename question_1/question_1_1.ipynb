{
 "cells": [
  {
   "cell_type": "markdown",
   "metadata": {},
   "source": [
    "### Question – 1 (Using Python)\n",
    "\n",
    "**1. Can you find out the mean and standard deviation of product height and weight based on each product code?**\n",
    "\n",
    "***Answer***\n",
    "\n",
    "The below python code calculate the height/weight mean and standard deviation (std) based on product code"
   ]
  },
  {
   "cell_type": "code",
   "execution_count": 65,
   "metadata": {},
   "outputs": [
    {
     "name": "stdout",
     "output_type": "stream",
     "text": [
      "              height Mean  height std  weight mean  weight std\n",
      "Product Code                                                  \n",
      "LIF001_Y         10.26850    0.738092     382.8250    6.311333\n",
      "LIF002_Y          8.18975    0.392228     523.7950    5.593230\n",
      "LIF002_R          9.30775    0.773817     314.7225   14.875465\n",
      "LIF001_B          8.94075    0.227376     384.9100    0.280000\n"
     ]
    }
   ],
   "source": [
    "import pandas as pd\n",
    "import numpy as np\n",
    "import math\n",
    "###\n",
    "\n",
    "measurements = pd.read_excel('files/question_1_2.xlsx', sheet_name='Measurements', skiprows=1)\n",
    "specifications = pd.read_excel('files/question_1_2.xlsx', sheet_name='Specifications', skiprows=1)\n",
    "\n",
    "product_codes = set(measurements['Product Code'])\n",
    "stats_dict = {}\n",
    "for product_code in product_codes:\n",
    "    height_mean = np.mean(measurements.loc[measurements['Product Code'] == product_code, 'T_Height'])\n",
    "    height_std = np.std(measurements.loc[measurements['Product Code'] == product_code, 'T_Height'])\n",
    "    weight_mean = np.mean(measurements.loc[measurements['Product Code'] == product_code, 'T_Weight'])\n",
    "    weigth_std = np.std(measurements.loc[measurements['Product Code'] == product_code, 'T_Weight'])\n",
    "    stats_dict[product_code] = [height_mean,height_std,  weight_mean, weigth_std]\n",
    "stats_df = pd.DataFrame(stats_dict)\n",
    "\n",
    "stats_df.index = ['height Mean', 'height std', 'weight mean','weight std']\n",
    "stats_df = stats_df.T\n",
    "stats_df.index.name = 'Product Code'\n",
    "print(stats_df)"
   ]
  }
 ],
 "metadata": {
  "kernelspec": {
   "display_name": "Python 3",
   "language": "python",
   "name": "python3"
  },
  "language_info": {
   "name": "python",
   "version": "3.11.6"
  }
 },
 "nbformat": 4,
 "nbformat_minor": 2
}
