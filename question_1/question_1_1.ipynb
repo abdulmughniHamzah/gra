{
 "cells": [
  {
   "cell_type": "markdown",
   "metadata": {},
   "source": [
    "### Question – 1 (Using Python)\n",
    "\n",
    "**1. Can you find out the mean and standard deviation of product height and weight based on each product code?**\n",
    "\n",
    "***Answer***\n",
    "\n",
    "The below python code calculate the height/weight mean and standard deviation (std) based on product code"
   ]
  },
  {
   "cell_type": "code",
   "execution_count": 18,
   "metadata": {},
   "outputs": [
    {
     "name": "stdout",
     "output_type": "stream",
     "text": [
      "              T_Height            T_Weight           \n",
      "                  mean       std      mean        std\n",
      "Product Code                                         \n",
      "LIF001_B       8.94075  0.262551  384.9100   0.323316\n",
      "LIF001_Y      10.26850  0.852276  382.8250   7.287700\n",
      "LIF002_R       9.30775  0.893526  314.7225  17.176708\n",
      "LIF002_Y       8.18975  0.452906  523.7950   6.458506\n"
     ]
    }
   ],
   "source": [
    "import pandas as pd\n",
    "###\n",
    "\n",
    "measurements = pd.read_excel('../data/question_1_2.xlsx', sheet_name='Measurements', skiprows=1)\n",
    "# Group by 'Product Code' and calculate mean and standard deviation\n",
    "result = measurements.groupby(['Product Code'])[['T_Height', 'T_Weight']].agg(['mean', 'std'])\n",
    "\n",
    "# Print the result\n",
    "print(result)\n"
   ]
  }
 ],
 "metadata": {
  "kernelspec": {
   "display_name": "Python 3",
   "language": "python",
   "name": "python3"
  },
  "language_info": {
   "codemirror_mode": {
    "name": "ipython",
    "version": 3
   },
   "file_extension": ".py",
   "mimetype": "text/x-python",
   "name": "python",
   "nbconvert_exporter": "python",
   "pygments_lexer": "ipython3",
   "version": "3.11.6"
  }
 },
 "nbformat": 4,
 "nbformat_minor": 2
}
